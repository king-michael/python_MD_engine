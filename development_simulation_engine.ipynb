{
 "cells": [
  {
   "cell_type": "code",
   "execution_count": 4,
   "metadata": {},
   "outputs": [],
   "source": [
    "import numpy as np\n",
    "\n",
    "%config Completer.use_jedi = False"
   ]
  },
  {
   "cell_type": "markdown",
   "metadata": {},
   "source": [
    "# Simulation Object"
   ]
  },
  {
   "cell_type": "markdown",
   "metadata": {},
   "source": [
    "## Integrators"
   ]
  },
  {
   "cell_type": "code",
   "execution_count": 5,
   "metadata": {},
   "outputs": [],
   "source": [
    "from abc import abstractmethod\n",
    "\n",
    "class Integrator:\n",
    "    def __init__(self, dt):\n",
    "        self.dt = dt\n",
    "        \n",
    "    def connect(self, positions, velocities, masses):\n",
    "        # connects integrator with engine\n",
    "        self.positions = positions\n",
    "        self.velocities = velocities\n",
    "        self.masses = masses\n",
    "    \n",
    "    @abstractmethod\n",
    "    def setup(self):\n",
    "        # setup variables\n",
    "        self.force = np.empty(self.velocities.shape, dtype=np.float32)\n",
    "        pass\n",
    "    \n",
    "    @abstractmethod\n",
    "    def initial_integrate(self):\n",
    "        self.velocities += self.dtfm * self.forces\n",
    "        self.positions += self.dtv * self.velocities\n",
    "    \n",
    "    @abstractmethod\n",
    "    def final_integrate(self):\n",
    "        self.velocities += self.dtfm * self.forces\n",
    "\n",
    "class VelocityVerletIntegrator(Integrator):\n",
    "    constants = {\n",
    "        'LJ' : {'ftm2v' : 1.0},\n",
    "        'real' : {'ftm2v' : 0.00041839999997254776},\n",
    "        'metal' : {'ftm2v' : 9648.533823273016},\n",
    "    }\n",
    "    \n",
    "    def __init__(self, dt, units='LJ'):\n",
    "        self.dt = dt\n",
    "        try:\n",
    "            self.ftm2v = self.constants[units]['ftm2v']\n",
    "        except KeyError as e:\n",
    "            raise KeyError('\"ftm2v\" for Unit(\"\") not found'.format(unit))\n",
    "        \n",
    "    def setup(self):\n",
    "        # setup variables\n",
    "        self.forces = np.zeros(self.velocities.shape, dtype=np.float64)\n",
    "        self.dtv = self.dt\n",
    "        self.dtf = 0.5*self.dt * self.ftm2v\n",
    "        self.dtfm =  np.atleast_2d(self.dtf / self.masses).T\n",
    "        \n",
    "    def initial_integrate(self):\n",
    "        self.velocities += self.dtfm * self.forces\n",
    "        self.positions += self.dtv * self.velocities\n",
    "        \n",
    "    def final_integrate(self):\n",
    "        self.velocities += self.dtfm * self.forces"
   ]
  },
  {
   "cell_type": "markdown",
   "metadata": {},
   "source": [
    "## Pair Interactions"
   ]
  },
  {
   "cell_type": "code",
   "execution_count": 46,
   "metadata": {},
   "outputs": [],
   "source": [
    "class Force:\n",
    "    def __init__(self, cutoff):\n",
    "        self.cutoff = cutoff\n",
    "        self.cutoff = cutoff\n",
    "        self.cutsq = cutoff**2\n",
    "        \n",
    "    def connect(self, engine):\n",
    "        # connects integrator with engine\n",
    "        self.positions = engine.positions\n",
    "        self.box = engine.box\n",
    "        self.pe = 0.0\n",
    "        \n",
    "        self.neigh = engine.neigh\n",
    "        self.neighborlist = engine.neigh.neighborlist\n",
    "        self.ghost_images = engine.neigh.ghost_images       \n",
    "        self.n_locals = engine.neigh.n_locals\n",
    "        \n",
    "    def fix_pbc(self, delx, ghost_images):\n",
    "        img = self.neigh.convert_ghostimage_to_3d(ghost_images)\n",
    "        delx -= img[:,0]*self.box[0]\n",
    "        delx -= img[:,1]*self.box[1]\n",
    "        delx -= img[:,2]*self.box[2]\n",
    "        \n",
    "        \n",
    "    def setup(self):\n",
    "        # setup variables, reimplement if needed\n",
    "        pass\n",
    "        \n",
    "    @abstractmethod\n",
    "    def compute(self, forces):\n",
    "        # computes forces, needs to be reimplemented\n",
    "        pass\n",
    "    \n",
    "    def get_current_state(self, return_forces=True):\n",
    "        \"gets the potential energy and forces of the current snapshot\"\n",
    "        forces = np.zeros(self.positions.shape, dtype=np.float64)\n",
    "        old_pe = self.pe\n",
    "        self.compute(forces)\n",
    "        new_pe, self.pe = self.pe, old_pe\n",
    "        if return_forces:\n",
    "            return forces, new_pe\n",
    "        else:\n",
    "            return new_pe\n",
    "\n",
    "class LennardJones(Force):\n",
    "    def __init__(self, epsilon, sigma, cutoff, shift=True):\n",
    "        super().__init__(cutoff)\n",
    "        \n",
    "        self.epsilon = epsilon\n",
    "        self.sigma = sigma\n",
    "        \n",
    "        self.c12 = 4*epsilon*sigma**12\n",
    "        self.c6 = 4*epsilon*sigma**6\n",
    "        \n",
    "        self.f_c12 = 12 * self.c12 \n",
    "        self.f_c6 = 6 * self.c6\n",
    "        \n",
    "        if shift:\n",
    "            r6inv = 1.0 / cutoff**6\n",
    "            self.offset = r6inv * (self.c12*r6inv - self.c6)\n",
    "        else:\n",
    "            self.offset = 0.0\n",
    "            \n",
    "    def compute(self, forces):        \n",
    "        for i, xtmp in enumerate(self.positions):\n",
    "            n_local = self.n_locals[i]\n",
    "            if n_local > 0:\n",
    "                neighbors = self.neighborlist[i, :n_local]\n",
    "                \n",
    "                delx = xtmp - self.positions[neighbors]\n",
    "                #self.fix_pbc(delx, self.ghost_images[i, :n_local])\n",
    "\n",
    "                rsq = np.sum(np.power(delx, 2))\n",
    "                if rsq < self.cutsq:\n",
    "                    r2inv = 1.0 / rsq\n",
    "                    r6inv = r2inv * r2inv * r2inv\n",
    "\n",
    "                    forcelj = r6inv * (self.f_c12*r6inv - self.f_c6 )\n",
    "                    forcelj *= r2inv\n",
    "\n",
    "                    forces[i] += (delx * forcelj)[0]\n",
    "\n",
    "                    forces[neighbors] -= delx * forcelj\n",
    "\n",
    "                    self.pe += np.sum(r6inv * (self.c12*r6inv - self.c6) - self.offset)\n"
   ]
  },
  {
   "cell_type": "markdown",
   "metadata": {},
   "source": [
    "## Reporter"
   ]
  },
  {
   "cell_type": "code",
   "execution_count": 47,
   "metadata": {},
   "outputs": [],
   "source": [
    "class Reporter:\n",
    "    def __init__(self, n_dump):\n",
    "        self.n_dump = n_dump\n",
    "        \n",
    "    def connect(self, engine):\n",
    "        self.engine = engine\n",
    "        \n",
    "    @abstractmethod\n",
    "    def report(self, step):\n",
    "        pass\n",
    "    \n",
    "class PositionMonitor(Reporter):\n",
    "    def __init__(self, n_dump=1000):\n",
    "        super().__init__(n_dump)\n",
    "        \n",
    "        self.trajectory = []\n",
    "\n",
    "    def report(self, step):\n",
    "        self.trajectory.append( self.engine.positions.copy() )\n",
    "        \n",
    "class ThermodynamicsReporter(Reporter):\n",
    "    def __init__(self, n_dump=1000):\n",
    "        super().__init__(n_dump)\n",
    "        \n",
    "        self.trajectory = []\n",
    "\n",
    "    def report(self, step):\n",
    "        pe = self.engine.get_potential_energy()\n",
    "        self.trajectory.append( (step, pe) ) "
   ]
  },
  {
   "cell_type": "code",
   "execution_count": 48,
   "metadata": {},
   "outputs": [],
   "source": [
    "class NeighborList:\n",
    "    # HARD CODED\n",
    "    periodic_x = True\n",
    "    periodic_y = True\n",
    "    periodic_z = True\n",
    "    triclinic = False\n",
    "    \n",
    "    \n",
    "    IMG_x_lo = 1 << 0\n",
    "    IMG_x_hi = 1 << 1\n",
    "    IMG_y_lo = 1 << 2\n",
    "    IMG_y_hi = 1 << 3\n",
    "    IMG_z_lo = 1 << 4\n",
    "    IMG_z_hi = 1 << 5\n",
    "\n",
    "\n",
    "    def __init__(self, \n",
    "                 positions,\n",
    "                 box,\n",
    "                 pair_cutoffs=[],\n",
    "                 pagesize=2000,\n",
    "                 skin=2.0,\n",
    "                 every=10,\n",
    "                 newton=True,\n",
    "                ):\n",
    "        self.pagesize = pagesize\n",
    "        self.skin = skin\n",
    "        self.every = every\n",
    "        \n",
    "        self.n_atoms = len(positions)\n",
    "        self.positions = positions\n",
    "        self.box = box\n",
    "        self.box_sides = np.linalg.norm(box, axis=1)\n",
    "        self.box_sides_half = self.box_sides / 2.0\n",
    "        \n",
    "        \n",
    "        self.pair_cutoffs = pair_cutoffs\n",
    "        \n",
    "        self.init_neighborlist(self.pair_cutoffs)\n",
    "        \n",
    "        if newton:\n",
    "            self.build_neighborlist = self.build_neighborlist_newton\n",
    "        else:\n",
    "            raise NotImplementedError(\"Only neighborlist with newton on are implemented\")\n",
    "            \n",
    "    def init_neighborlist(self, pair_cutoffs):\n",
    "        self.nn_cutoff = max(pair_cutoffs) + self.skin\n",
    "        self.nn_cutsq = self.nn_cutoff**2\n",
    "        \n",
    "        if self.triclinic:\n",
    "            raise NotImplementedError()\n",
    "        else:\n",
    "            np.testing.assert_almost_equal(self.box_sides, np.sum(box, axis=1), err_msg='box is triclinic')\n",
    "        if np.any(self.box_sides < 2*self.nn_cutoff):\n",
    "            raise UserWarning(\"Box is to small\")\n",
    "        \n",
    "        self.n_locals = np.zeros(self.n_atoms, dtype=np.int32)\n",
    "        self.neighborlist = np.zeros((self.n_atoms, self.pagesize), dtype=np.int32)\n",
    "        self.ghost_images = np.zeros((self.n_atoms, self.pagesize), dtype=np.byte)\n",
    "        \n",
    "    def build_neighborlist_newton(self):\n",
    "        positions = self.positions\n",
    "        self.ghost_images[:] = 0\n",
    "        \n",
    "        for i, x in enumerate(positions[:-1]):\n",
    "            \n",
    "            delx = x - positions[i+1:] \n",
    "\n",
    "            if self.triclinic:\n",
    "                raise NotImplementedError(\"...\")\n",
    "            else:\n",
    "                if self.periodic_x:\n",
    "                    m_x_lo = delx[:,0] < -self.box_sides_half[0]\n",
    "                    delx[m_x_lo] += self.box[0]\n",
    "                    \n",
    "                    m_x_hi = delx[:,0] >  self.box_sides_half[0]\n",
    "                    delx[m_x_hi] -= self.box[0]\n",
    "                \n",
    "                if self.periodic_y:\n",
    "                    m_y_lo = delx[:,1] < -self.box_sides_half[1]\n",
    "                    delx[m_y_lo] += self.box[1]\n",
    "\n",
    "                    m_y_hi = delx[:,1] >  self.box_sides_half[1]\n",
    "                    delx[m_y_hi] -= self.box[1]\n",
    "                \n",
    "                if self.periodic_z:\n",
    "                    m_z_lo = delx[:,2] < -self.box_sides_half[2]\n",
    "                    delx[m_z_lo] += self.box[2]\n",
    "\n",
    "                    m_z_hi = delx[:,2] >  self.box_sides_half[2]\n",
    "                    delx[m_z_hi] -= self.box[2]\n",
    "\n",
    "            rsq = np.sum(np.power(delx, 2), axis=1)\n",
    "            mask = rsq < self.nn_cutsq\n",
    "            neighbors = np.where(mask)[0]\n",
    "            n_local = len(neighbors)\n",
    "            if n_local>0:\n",
    "                self.neighborlist[i,:n_local] = neighbors+i+1\n",
    "                \n",
    "                ghost_images = self.ghost_images[i,:n_local]\n",
    "                np.bitwise_or(ghost_images, self.IMG_x_lo, out=ghost_images, where=m_x_lo[neighbors])\n",
    "                np.bitwise_or(ghost_images, self.IMG_x_hi, out=ghost_images, where=m_x_hi[neighbors])\n",
    "\n",
    "                np.bitwise_or(ghost_images, self.IMG_y_lo, out=ghost_images, where=m_y_lo[neighbors])\n",
    "                np.bitwise_or(ghost_images, self.IMG_y_hi, out=ghost_images, where=m_y_hi[neighbors])\n",
    "\n",
    "                np.bitwise_or(ghost_images, self.IMG_z_lo, out=ghost_images, where=m_z_lo[neighbors])\n",
    "                np.bitwise_or(ghost_images, self.IMG_z_hi, out=ghost_images, where=m_z_hi[neighbors])\n",
    "                \n",
    "            self.n_locals[i] = n_local\n",
    "            \n",
    "    \n",
    "    def apply_pbc(self):\n",
    "        positions = self.positions\n",
    "        if self.periodic_x:\n",
    "            positions[positions[:,0] < 0.0] += self.box[0]\n",
    "            positions[positions[:,0] > self.box_sides[0]] -= self.box[0]\n",
    "        if self.periodic_y:\n",
    "            positions[positions[:,1] < 0.0] += self.box[1]\n",
    "            positions[positions[:,1] > self.box_sides[1]] -= self.box[1]\n",
    "        if self.periodic_z:\n",
    "            positions[positions[:,2] < 0.0] += self.box[2]\n",
    "            positions[positions[:,2] > self.box_sides[2]] -= self.box[2]\n",
    "        \n",
    "    @classmethod\n",
    "    def convert_ghostimage_to_1d(self, image):\n",
    "        ghost_images = np.zeros(len(image), dtype=np.byte)\n",
    "        \n",
    "        np.bitwise_or(ghost_images, self.IMG_x_lo, out=ghost_images, where=image[:,0] < 0)\n",
    "        np.bitwise_or(ghost_images, self.IMG_x_hi, out=ghost_images, where=image[:,0] > 0)\n",
    "\n",
    "        np.bitwise_or(ghost_images, self.IMG_y_lo, out=ghost_images, where=image[:,1] < 0)\n",
    "        np.bitwise_or(ghost_images, self.IMG_y_hi, out=ghost_images, where=image[:,1] > 0)\n",
    "\n",
    "        np.bitwise_or(ghost_images, self.IMG_z_lo, out=ghost_images, where=image[:,2] < 0)\n",
    "        np.bitwise_or(ghost_images, self.IMG_z_hi, out=ghost_images, where=image[:,2] > 0)\n",
    "\n",
    "        return ghost_images\n",
    "    \n",
    "    @classmethod\n",
    "    def convert_ghostimage_to_3d(self, ghost_images):\n",
    "        images_out = np.zeros((ghost_images.size,3), dtype=np.int8)\n",
    "        images_out[(ghost_images & self.IMG_x_lo).astype(bool),0] = -1\n",
    "        images_out[(ghost_images & self.IMG_x_hi).astype(bool),0] = 1\n",
    "\n",
    "        images_out[(ghost_images & self.IMG_y_lo).astype(bool),1] = -1\n",
    "        images_out[(ghost_images & self.IMG_y_hi).astype(bool),1] =  1\n",
    "\n",
    "        images_out[(ghost_images & self.IMG_z_lo).astype(bool),2] = -1\n",
    "        images_out[(ghost_images & self.IMG_z_hi).astype(bool),2] =  1\n",
    "\n",
    "        return images_out"
   ]
  },
  {
   "cell_type": "code",
   "execution_count": null,
   "metadata": {},
   "outputs": [],
   "source": []
  },
  {
   "cell_type": "markdown",
   "metadata": {},
   "source": [
    "## Simulation object"
   ]
  },
  {
   "cell_type": "code",
   "execution_count": 101,
   "metadata": {},
   "outputs": [],
   "source": [
    "def debug(*args, **kwargs):\n",
    "    print(*args, **kwargs)\n",
    "\n",
    "class Simulation():\n",
    "    nn_settings = {\n",
    "        'pagesize' : 2000, # max neighborlist size\n",
    "        'skin' : 2.0, # neighbor skin\n",
    "        'every' : 10,\n",
    "    }\n",
    "    def __init__(self, positions, masses, box, velocities=None, timestep=1.0):\n",
    "        self.n_atoms = len(positions)\n",
    "            \n",
    "        self.positions = positions.astype(np.float64).copy()\n",
    "        self.masses = masses.astype(np.float64).copy()\n",
    "        self.box = box\n",
    "        \n",
    "        if velocities is None:\n",
    "            self.velocities = np.zeros(positions.shape, dtype=np.float64)\n",
    "        else:\n",
    "            self.velocities = velocities.astype(np.float64).copy()\n",
    "        \n",
    "        self.forces = np.zeros(self.positions.shape, dtype=np.float64)\n",
    "        \n",
    "        self.timestep = timestep\n",
    "        \n",
    "        # CUSTOM\n",
    "        \n",
    "        \n",
    "        self.pair_styles = []\n",
    "        self.reporters = []\n",
    "        \n",
    "        self.initialized = False\n",
    "      \n",
    "    def init_forces(self):\n",
    "        debug(\"Init Forces\")\n",
    "        for pair_style in self.pair_styles:\n",
    "            pair_style.connect(self)\n",
    "        \n",
    "    def init_neighborlist(self):\n",
    "        debug(\"Init Neighborlist\")\n",
    "        self.neigh = NeighborList(self.positions, self.box,\n",
    "                                  pair_cutoffs=[f.cutoff for f in self.pair_styles])\n",
    "    \n",
    "    def add_pair_style(self, pair_style):\n",
    "        debug(\"add pair_style\")\n",
    "        self.pair_styles.append( pair_style )\n",
    "        \n",
    "    def set_integrator(self, integrator):\n",
    "        \"Sets the integrator\"\n",
    "        debug(\"set integrator\")\n",
    "        self.integrator = integrator\n",
    "        self.integrator.connect(self.positions, self.velocities, self.masses)\n",
    "        self.integrator.setup()\n",
    "    \n",
    "    def add_reporter(self, reporter):\n",
    "        debug(\"add reporter\")\n",
    "        reporter.connect(self)\n",
    "        self.reporters.append( reporter )\n",
    "        \n",
    "    \n",
    "        \n",
    "    def _init_step(self):\n",
    "        self.init_neighborlist()\n",
    "        self.neigh.build_neighborlist()\n",
    "        \n",
    "        self.init_forces()\n",
    "        \n",
    "        self.initialized = True\n",
    "        \n",
    "    def _step(self):\n",
    "        # for step routine see : https://lammps.sandia.gov/doc/Developer.pdf \n",
    "        self.integrator.initial_integrate()\n",
    "        \n",
    "        \n",
    "        if self.nflag:\n",
    "            self.neigh.apply_pbc()\n",
    "            self.neigh.build_neighborlist()\n",
    "            self.nflag=False\n",
    "                \n",
    "        self.forces[:] = 0\n",
    "        for pair_style in self.pair_styles:\n",
    "            pair_style.compute(self.forces)\n",
    "        \n",
    "        # CONSTRAINTS\n",
    "        self.integrator.final_integrate()\n",
    "        \n",
    "        \n",
    "        \n",
    "    def get_potential_energy(self):\n",
    "        pe  = sum(p.pe for p in self.pair_styles)\n",
    "        return pe\n",
    "    \n",
    "    def run(self, n_steps):\n",
    "        if not self.initialized:\n",
    "            self._init_step()\n",
    "            \n",
    "        self.nflag=True\n",
    "        nn_every = self.neigh.every\n",
    "        reporter_every_min = min(r.n_dump for r in self.reporters)\n",
    "        \n",
    "        for step in range(1, n_steps+1):\n",
    "            \n",
    "            if not step % 1000:\n",
    "                print(\"\\rStep : {:10d} / {} ({:6.2f}%)\".format(step, n_steps, 100.0*step/n_steps), end='', flush=True)\n",
    "            \n",
    "            # activate neighborlist build\n",
    "            if not step % nn_every:\n",
    "                self.nflag=True\n",
    "                \n",
    "            self._step()\n",
    "            \n",
    "            if not step % reporter_every_min:\n",
    "                for reporter in self.reporters:\n",
    "                    if not step % reporter.n_dump:\n",
    "                        reporter.report(step)"
   ]
  },
  {
   "cell_type": "markdown",
   "metadata": {},
   "source": [
    "# Simulation"
   ]
  },
  {
   "cell_type": "markdown",
   "metadata": {},
   "source": [
    "## Inputs"
   ]
  },
  {
   "cell_type": "code",
   "execution_count": 102,
   "metadata": {},
   "outputs": [],
   "source": [
    "box = np.array([\n",
    "    [26, 0, 0],\n",
    "    [0, 26, 0],\n",
    "    [0, 0, 26],\n",
    "])\n",
    "\n",
    "positions = np.array([\n",
    "    [0, 0, 0],\n",
    "    [1, 0, 0],\n",
    "], dtype=np.float64)\n",
    "\n",
    "velocities = np.array([\n",
    "    [ 5e-5, 0, 0],\n",
    "    [-5e-5, 0, 0]\n",
    "], dtype=np.float64)\n",
    "\n",
    "masses = 18.0*np.ones(len(positions))"
   ]
  },
  {
   "cell_type": "markdown",
   "metadata": {},
   "source": [
    "## Run"
   ]
  },
  {
   "cell_type": "code",
   "execution_count": 103,
   "metadata": {},
   "outputs": [
    {
     "name": "stdout",
     "output_type": "stream",
     "text": [
      "set integrator\n",
      "add pair_style\n",
      "add reporter\n",
      "add reporter\n"
     ]
    }
   ],
   "source": [
    "simulation = Simulation(\n",
    "    positions=positions,\n",
    "    masses=masses,\n",
    "    box=box,\n",
    "    velocities=velocities\n",
    ")\n",
    "simulation.set_integrator( VelocityVerletIntegrator(1.0) )\n",
    "simulation.add_pair_style( LennardJones(epsilon=2, sigma=3.5, cutoff=11) )\n",
    "simulation.add_reporter( PositionMonitor(n_dump=1000) )\n",
    "simulation.add_reporter( ThermodynamicsReporter(n_dump=1000) )"
   ]
  },
  {
   "cell_type": "code",
   "execution_count": 104,
   "metadata": {},
   "outputs": [
    {
     "name": "stdout",
     "output_type": "stream",
     "text": [
      "Init Neighborlist\n",
      "Init Forces\n",
      "Step :    1000000 / 1000000 (100.00%)"
     ]
    }
   ],
   "source": [
    "simulation.run(int(1e6))\n",
    "#simulation.run(int(0))"
   ]
  },
  {
   "cell_type": "markdown",
   "metadata": {},
   "source": [
    "# Checks"
   ]
  },
  {
   "cell_type": "code",
   "execution_count": 41,
   "metadata": {},
   "outputs": [
    {
     "name": "stderr",
     "output_type": "stream",
     "text": [
      "UsageError: Line magic function `%maptlotlib` not found.\n"
     ]
    }
   ],
   "source": [
    "import matplotlib.pyplot as plt\n",
    "\n",
    "%maptlotlib inline"
   ]
  },
  {
   "cell_type": "markdown",
   "metadata": {},
   "source": [
    "## Check Forces"
   ]
  },
  {
   "cell_type": "code",
   "execution_count": 81,
   "metadata": {},
   "outputs": [
    {
     "name": "stdout",
     "output_type": "stream",
     "text": [
      "set integrator\n",
      "add pair_style\n",
      "Init Neighborlist\n",
      "Init Forces\n"
     ]
    }
   ],
   "source": [
    "distances = np.linspace(1.0, 100, num=1000)\n",
    "pe = np.zeros(distances.size)\n",
    "\n",
    "box = [\n",
    "    [26, 0, 0],\n",
    "    [0, 26, 0],\n",
    "    [0, 0, 26],\n",
    "]\n",
    "\n",
    "positions = np.array([\n",
    "    [0, 0, 0],\n",
    "    [1, 0, 0],\n",
    "], dtype=np.float64)\n",
    "\n",
    "velocities = np.array([\n",
    "    [ 5e-5, 0, 0],\n",
    "    [-5e-5, 0, 0]\n",
    "], dtype=np.float64)\n",
    "\n",
    "masses = 18.0*np.ones(len(positions))\n",
    "\n",
    "\n",
    "simulation = Simulation(\n",
    "    positions=positions,\n",
    "    masses=masses,\n",
    "    box=box,\n",
    "    velocities=velocities\n",
    ")\n",
    "simulation.set_integrator( VelocityVerletIntegrator(1.0) )\n",
    "simulation.add_pair_style( LennardJones(epsilon=2, sigma=3.5, cutoff=11) )\n",
    "simulation._init_step()\n",
    "\n",
    "simulation.positions[0] = (0,0,0)\n",
    "\n",
    "\n",
    "for i,d in enumerate(distances):\n",
    "    simulation.positions[1] = (d,0,0)\n",
    "    #simulation.neigh.apply_pbc()\n",
    "    #simulation.neigh.build_neighborlist()\n",
    "    \n",
    "    pe[i] = simulation.pair_styles[0].get_current_state(return_forces=False)"
   ]
  },
  {
   "cell_type": "code",
   "execution_count": 82,
   "metadata": {},
   "outputs": [],
   "source": [
    "def test_lj(distances, epsilon, sigma, cutoff, shift=True):\n",
    "    pe = np.zeros(distances.size)\n",
    "    mask = distances<cutoff\n",
    "    pe[mask] = 4*epsilon * (np.power(sigma / distances[mask], 12) - np.power(sigma / distances[mask], 6))\n",
    "    pe[mask] -=  4*epsilon * (np.power(sigma / cutoff, 12) - np.power(sigma / cutoff, 6))\n",
    "    return pe"
   ]
  },
  {
   "cell_type": "code",
   "execution_count": 83,
   "metadata": {},
   "outputs": [],
   "source": [
    "pe_theory = test_lj(distances, epsilon=2, sigma=3.5, cutoff=11)\n",
    "\n",
    "np.testing.assert_almost_equal(pe, pe_theory)"
   ]
  },
  {
   "cell_type": "code",
   "execution_count": 84,
   "metadata": {},
   "outputs": [
    {
     "data": {
      "text/plain": [
       "Text(0, 0.5, 'potential energy')"
      ]
     },
     "execution_count": 84,
     "metadata": {},
     "output_type": "execute_result"
    },
    {
     "data": {
      "image/png": "[encoded data removed]",
      "text/plain": [
       "<Figure size 432x288 with 1 Axes>"
      ]
     },
     "metadata": {
      "needs_background": "light"
     },
     "output_type": "display_data"
    }
   ],
   "source": [
    "plt.plot(distances, pe)\n",
    "\n",
    "plt.plot(distances, pe_theory, ls='--')\n",
    "plt.ylim(pe.min()*1.1, -pe.min()*1.1)\n",
    "plt.xlabel('distance')\n",
    "plt.ylabel('potential energy')"
   ]
  },
  {
   "cell_type": "markdown",
   "metadata": {},
   "source": [
    "## check image convertion"
   ]
  },
  {
   "cell_type": "code",
   "execution_count": 75,
   "metadata": {},
   "outputs": [],
   "source": [
    "image = np.array([\n",
    "    [1, 0, 0],\n",
    "    [1, 1, 0],\n",
    "    [1, -1, -1],\n",
    "    [0, 0, 1],\n",
    "])"
   ]
  },
  {
   "cell_type": "code",
   "execution_count": 76,
   "metadata": {},
   "outputs": [
    {
     "data": {
      "text/plain": [
       "array([[ 1,  0,  0],\n",
       "       [ 1,  1,  0],\n",
       "       [ 1, -1, -1],\n",
       "       [ 0,  0,  1]], dtype=int8)"
      ]
     },
     "execution_count": 76,
     "metadata": {},
     "output_type": "execute_result"
    }
   ],
   "source": [
    "NeighborList.convert_ghostimage_to_3d(\n",
    " NeighborList.convert_ghostimage_to_1d(image)\n",
    ")"
   ]
  },
  {
   "cell_type": "markdown",
   "metadata": {},
   "source": [
    "## check neighbor lists"
   ]
  },
  {
   "cell_type": "code",
   "execution_count": 498,
   "metadata": {},
   "outputs": [
    {
     "data": {
      "text/plain": [
       "array([[-1,  0,  0]], dtype=int8)"
      ]
     },
     "execution_count": 498,
     "metadata": {},
     "output_type": "execute_result"
    }
   ],
   "source": [
    "position=np.array([[0,0,0],\n",
    "                   [8,0,0]])\n",
    "box = np.array([\n",
    "    [10,0,0],\n",
    "    [0,10,0],\n",
    "    [0,0,10]\n",
    "])\n",
    "neigh = NeighborList(\n",
    "    position, box, [2.0]\n",
    "    )\n",
    "\n",
    "neigh.build_neighborlist()\n",
    "\n",
    "neigh.convert_ghostimage_to_3d(neigh.ghost_images[0,:1])"
   ]
  },
  {
   "cell_type": "code",
   "execution_count": null,
   "metadata": {},
   "outputs": [],
   "source": []
  }
 ],
 "metadata": {
  "kernelspec": {
   "display_name": "Python 3.7",
   "language": "python",
   "name": "python3.7"
  },
  "language_info": {
   "codemirror_mode": {
    "name": "ipython",
    "version": 3
   },
   "file_extension": ".py",
   "mimetype": "text/x-python",
   "name": "python",
   "nbconvert_exporter": "python",
   "pygments_lexer": "ipython3",
   "version": "3.7.3"
  },
  "toc": {
   "base_numbering": 1,
   "nav_menu": {},
   "number_sections": true,
   "sideBar": true,
   "skip_h1_title": false,
   "title_cell": "Table of Contents",
   "title_sidebar": "Contents",
   "toc_cell": false,
   "toc_position": {},
   "toc_section_display": true,
   "toc_window_display": true
  }
 },
 "nbformat": 4,
 "nbformat_minor": 2
}
